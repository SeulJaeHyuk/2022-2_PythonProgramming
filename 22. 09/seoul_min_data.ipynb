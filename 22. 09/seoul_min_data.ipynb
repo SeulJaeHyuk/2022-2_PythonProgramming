{
 "cells": [
  {
   "cell_type": "code",
   "execution_count": 15,
   "id": "eac46078-fbb9-40d3-95f8-fa34296a46a5",
   "metadata": {},
   "outputs": [],
   "source": [
    "# csv 파일을 제어하는 모듈\n",
    "import csv"
   ]
  },
  {
   "cell_type": "code",
   "execution_count": 16,
   "id": "604b0edd-15cd-448d-b0f9-53d8d1a345e4",
   "metadata": {},
   "outputs": [
    {
     "name": "stdout",
     "output_type": "stream",
     "text": [
      "1927.12.31 39.6\n"
     ]
    }
   ],
   "source": [
    "# csv 파일 열기\n",
    "f = open('seoul.csv', 'r', encoding='utf-8')\n",
    "# ','기준으로 읽기\n",
    "data = csv.reader(f, delimiter=',')\n",
    "# 헤더정보는 따로 제외시킴\n",
    "header = next(data)\n",
    "# 나머지 정보를 가져옴\n",
    "for row in data:\n",
    "    #데이터가 있으면 문자열에서 실수로 변환\n",
    "    if row[-1] != '':\n",
    "        r = float(row[-1])\n",
    "    # 변수 'max'가 없으면 변수 'max'를 생성\n",
    "    if 'max' not in locals():\n",
    "        max = r\n",
    "        \n",
    "    #기존의 max 변수 값이 data보다 작으면 data를 max에 저장\n",
    "    #그리고 날짜도 저장\n",
    "    if max < r :\n",
    "        max = r\n",
    "        date = row[0]\n",
    "            \n",
    "print(date, max)\n",
    "f.close()"
   ]
  },
  {
   "cell_type": "code",
   "execution_count": 17,
   "id": "49e43997-76c0-4463-8e89-a33cc2cf5a73",
   "metadata": {
    "jupyter": {
     "source_hidden": true
    },
    "tags": []
   },
   "outputs": [
    {
     "name": "stdout",
     "output_type": "stream",
     "text": [
      "기상관측 이래 서울의 기온이 가장 낮았던 날은 1927.12.31 로 -23.1 였습니다.\n"
     ]
    }
   ],
   "source": [
    "# csv 파일 열기\n",
    "f = open('seoul.csv', 'r', encoding='utf-8')\n",
    "# ','기준으로 읽기\n",
    "data = csv.reader(f, delimiter=',')\n",
    "# 헤더정보는 따로 제외시킴\n",
    "header = next(data)\n",
    "# 나머지 정보를 가져옴\n",
    "for row in data:\n",
    "    #데이터가 있으면 문자열에서 실수로 변환\n",
    "    if row[-2] != '':\n",
    "        r = float(row[-2])\n",
    "    # 변수 'min'가 없으면 변수 'max'를 생성\n",
    "    if 'min' not in locals():\n",
    "        min = r\n",
    "        \n",
    "    #기존의 max 변수 값이 data보다 작으면 data를 max에 저장\n",
    "    #그리고 날짜도 저장\n",
    "    if min > r :\n",
    "        min = r\n",
    "        date = row[0]\n",
    "            \n",
    "print('기상관측 이래 서울의 기온이 가장 낮았던 날은', date,'로', min, '였습니다.')\n",
    "f.close()"
   ]
  },
  {
   "cell_type": "code",
   "execution_count": 18,
   "id": "d94e21b2-47bf-4bbc-978a-37552972c46d",
   "metadata": {},
   "outputs": [],
   "source": [
    "del(min)"
   ]
  }
 ],
 "metadata": {
  "kernelspec": {
   "display_name": "Python 3 (ipykernel)",
   "language": "python",
   "name": "python3"
  },
  "language_info": {
   "codemirror_mode": {
    "name": "ipython",
    "version": 3
   },
   "file_extension": ".py",
   "mimetype": "text/x-python",
   "name": "python",
   "nbconvert_exporter": "python",
   "pygments_lexer": "ipython3",
   "version": "3.9.12"
  }
 },
 "nbformat": 4,
 "nbformat_minor": 5
}
