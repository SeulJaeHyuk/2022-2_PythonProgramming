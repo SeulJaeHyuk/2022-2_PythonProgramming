{
 "cells": [
  {
   "cell_type": "code",
   "execution_count": 28,
   "id": "2702db4f-72bd-4025-b764-8d803e81f98b",
   "metadata": {},
   "outputs": [
    {
     "name": "stdout",
     "output_type": "stream",
     "text": [
      "<_csv.reader object at 0x000001F9E0A08880>\n"
     ]
    }
   ],
   "source": [
    "import csv\n",
    "f = open('subway_fee.csv', encoding='utf-8')\n",
    "data = csv.reader(f)\n",
    "print(data)\n",
    "\n",
    "max = 0\n",
    "rate = 0\n",
    "station = ''"
   ]
  },
  {
   "cell_type": "code",
   "execution_count": 30,
   "id": "99f59726-fef8-46c6-997c-48a24bac9aac",
   "metadata": {},
   "outputs": [
    {
     "name": "stdout",
     "output_type": "stream",
     "text": [
      "1호선 서울역 1307627 218542 85.68 %\n",
      "2호선 을지로입구 1117722 103892 91.5 %\n",
      "2호선 건대입구 989589 91708 91.52 %\n",
      "2호선 삼성(무역센터) 1346785 119778 91.83 %\n",
      "2호선 강남 2031810 154887 92.92 %\n",
      "2호선 홍대입구 1893368 98593 95.05 %\n",
      "최종값 :  2호선 홍대입구 95.05 %\n",
      "최종값 : 2호선 홍대입구 95.05 %\n"
     ]
    }
   ],
   "source": [
    "for row in data :\n",
    "    # int 변환\n",
    "    for i in range(4,8) :\n",
    "        row[i] = int(row[i])\n",
    "    \n",
    "    # row[7]이 0 제외\n",
    "    if row[6] != 0 and (row[4]+row[6]) > 800000 :\n",
    "        rate = row[4] / (row[4]+row[6])\n",
    "        if rate > max :\n",
    "            max = rate\n",
    "            station = row[1] + ' ' + row[3]\n",
    "            print(station, row[4], row[6], round(rate*100, 2), '%')\n",
    "            \n",
    "print('최종값 : ', station, round(max*100, 2), '%')\n",
    "print(f'최종값 : {station} {round(max*100, 2)} %')"
   ]
  },
  {
   "cell_type": "code",
   "execution_count": null,
   "id": "17bc5086-6577-485b-88e0-6b0439550deb",
   "metadata": {},
   "outputs": [],
   "source": []
  }
 ],
 "metadata": {
  "kernelspec": {
   "display_name": "Python 3 (ipykernel)",
   "language": "python",
   "name": "python3"
  },
  "language_info": {
   "codemirror_mode": {
    "name": "ipython",
    "version": 3
   },
   "file_extension": ".py",
   "mimetype": "text/x-python",
   "name": "python",
   "nbconvert_exporter": "python",
   "pygments_lexer": "ipython3",
   "version": "3.9.12"
  }
 },
 "nbformat": 4,
 "nbformat_minor": 5
}
