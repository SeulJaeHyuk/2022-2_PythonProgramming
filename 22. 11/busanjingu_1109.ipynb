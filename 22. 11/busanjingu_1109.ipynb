{
 "cells": [
  {
   "cell_type": "code",
   "execution_count": 16,
   "id": "41a57390-a016-4150-8032-0691f7aef773",
   "metadata": {},
   "outputs": [
    {
     "name": "stdin",
     "output_type": "stream",
     "text": [
      "원하는 부산의 구를 입력하세요 :  부산진구\n"
     ]
    },
    {
     "name": "stdout",
     "output_type": "stream",
     "text": [
      "[-1442, -1551, -1595, -1684, -1947, -1979, -2261, -2349, -2317, -2237, -2494, -2464, -2260, -2205, -2340, -2391, -2245, -2212, -2595, -2811, -3051, -3972, -4800, -4760, -5144, -5514, -5720, -5727, -5808, -5823, -5817, -5404, -4972, -4852, -4462, -4406, -4218, -4360, -4381, -4888, -5139, -5177, -5293, -5046, -4453, -4467, -4460, -4816, -5337, -5329, -5599, -5822, -5770, -5748, -5815, -5431, -5416, -5522, -5164, -5675, -6051, -6819, -6784, -6207, -5861, -5934, -5504, -5712, -4744, -4237, -4503, -3637, -3617, -3765, -3566, -3373, -2434, -2441, -2512, -2512, -2840, -2217, -1959, -1830, -1429, -1289, -1034, -918, -692, -561, -441, -336, -229, -214, -143, -110, -46, -47, -31, -17, -35]\n",
      "[-1442, -1551, -1595, -1684, -1947, -1979, -2261, -2349, -2317, -2237, -2494, -2464, -2260, -2205, -2340, -2391, -2245, -2212, -2595, -2811, -3051, -3972, -4800, -4760, -5144, -5514, -5720, -5727, -5808, -5823, -5817, -5404, -4972, -4852, -4462, -4406, -4218, -4360, -4381, -4888, -5139, -5177, -5293, -5046, -4453, -4467, -4460, -4816, -5337, -5329, -5599, -5822, -5770, -5748, -5815, -5431, -5416, -5522, -5164, -5675, -6051, -6819, -6784, -6207, -5861, -5934, -5504, -5712, -4744, -4237, -4503, -3637, -3617, -3765, -3566, -3373, -2434, -2441, -2512, -2512, -2840, -2217, -1959, -1830, -1429, -1289, -1034, -918, -692, -561, -441, -336, -229, -214, -143, -110, -46, -47, -31, -17, -35]\n"
     ]
    },
    {
     "name": "stderr",
     "output_type": "stream",
     "text": [
      "C:\\Users\\tbn29\\anaconda3\\lib\\site-packages\\IPython\\core\\pylabtools.py:151: UserWarning: Glyph 8722 (\\N{MINUS SIGN}) missing from current font.\n",
      "  fig.canvas.print_figure(bytes_io, **kw)\n"
     ]
    },
    {
     "data": {
      "image/png": "[encoded data removed]",
      "text/plain": [
       "<Figure size 432x288 with 1 Axes>"
      ]
     },
     "metadata": {
      "needs_background": "light"
     },
     "output_type": "display_data"
    }
   ],
   "source": [
    "import csv\n",
    "f = open('age_mf.csv', encoding='utf-8')\n",
    "data = csv.reader(f)\n",
    "m = []\n",
    "f = []\n",
    "\n",
    "# 입력 받기\n",
    "name = input ('원하는 부산의 구를 입력하세요 : ')\n",
    "for row in data:\n",
    "    if name in row[0]:\n",
    "        for i in range(0,101):\n",
    "            m_data = int(row[i+3].replace(',', ''))\n",
    "            f_data = int(row[-(i+1)].replace(',',''))\n",
    "            m.append(m_data)\n",
    "            f.append(-f_data)\n",
    "f.reverse()\n",
    "print(f)\n",
    "\n",
    "# for row in data:\n",
    "    #if '부산진구' in row[0]:\n",
    "       # for i in range(0,101):\n",
    "           # m_data = int(row[i+3].replace(',', ''))\n",
    "           # f_data = int(row[-(i+1)].replace(',',''))\n",
    "           # m.append(m_data)\n",
    "           # f.append(f_data)\n",
    "# f.reverse()\n",
    "print(f)\n",
    "\n",
    "import matplotlib.pyplot as plt\n",
    "plt.rc('font', family='Malgun Gothic')\n",
    "plt.rcParams['axes.unicode_minus']\n",
    "plt.title(name)\n",
    "plt.barh(range(101), m, label='남자수')\n",
    "plt.barh(range(101), f, label ='여자수')\n",
    "plt.legend()\n",
    "plt.show()"
   ]
  }
 ],
 "metadata": {
  "kernelspec": {
   "display_name": "Python 3 (ipykernel)",
   "language": "python",
   "name": "python3"
  },
  "language_info": {
   "codemirror_mode": {
    "name": "ipython",
    "version": 3
   },
   "file_extension": ".py",
   "mimetype": "text/x-python",
   "name": "python",
   "nbconvert_exporter": "python",
   "pygments_lexer": "ipython3",
   "version": "3.9.12"
  }
 },
 "nbformat": 4,
 "nbformat_minor": 5
}
