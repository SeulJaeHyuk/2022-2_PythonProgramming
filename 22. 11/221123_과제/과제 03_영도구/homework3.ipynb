{
 "cells": [
  {
   "cell_type": "code",
   "execution_count": null,
   "id": "05058dea-3be4-418d-8879-2aa56173c549",
   "metadata": {},
   "outputs": [],
   "source": [
    "import csv\n",
    "import math\n",
    "f = open('busan_age.csv', encoding='utf-8')\n",
    "data = csv.reader(f)\n",
    "header = next(data)\n",
    "\n",
    "m = []\n",
    "f = []\n",
    "size = []\n",
    "\n",
    "name = input('원하는 부산의 구를 입력하세요.')  # 원하는 부산의 구를 입력하라는 문구를 출력하고, 값을 입력받는다.\n",
    "\n",
    "for row in data :\n",
    "    if name in row[0]:\n",
    "        for i in range(3, 104):\n",
    "            m.append(int(row[i]))\n",
    "            f.append(int(row[i+103]))\n",
    "            size.append(math.sqrt(int(row[i]) + int(row[i+103])))\n",
    "        break \n",
    "\n",
    "import matplotlib.pyplot as plt \n",
    "plt.style.use('ggplot')\n",
    "plt.figure(figsize=(10,5), dpi=300) # dpi는 해상도이고 figsize를 사용하여 width와 height를 조절한다.\n",
    "plt.rc('font', family='Malgun Gothic') # mac은 AppleGothic / Window는 Malgun Gothic을 사용한다.\n",
    "plt.title(name + '의 인구 분포')\n",
    "plt.scatter(m, f, s=size, c=range(101), cmap='jet')  # 그래프의 특징을 지정한다.\n",
    "plt.colorbar()\n",
    "plt.plot(range(max(m)), range(max(m)), 'g')\n",
    "plt.xlabel('남성 인구수')   #xlabel을 표시한다.\n",
    "plt.ylabel('여성 인구수')   #ylabel을 표시한다.\n",
    "plt.show()"
   ]
  }
 ],
 "metadata": {
  "kernelspec": {
   "display_name": "Python 3 (ipykernel)",
   "language": "python",
   "name": "python3"
  },
  "language_info": {
   "name": ""
  }
 },
 "nbformat": 4,
 "nbformat_minor": 5
}
